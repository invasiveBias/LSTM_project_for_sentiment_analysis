{
 "cells": [
  {
   "cell_type": "markdown",
   "id": "af3900d1",
   "metadata": {},
   "source": [
    "# WELCOME TO UCHE'S 3RD PROJECT\n",
    "- This is my third portfolio Project where i'll be working on training a Deep Learning model(LSTM) to recognise sentiment after analysing financial news data.\n",
    "- The model is first trained,validated & evaluated with a dataset which contains financial news data each already classed with it's respose sentiment(either positive negative or neutral),the model is then going to be given another dataset with only the financial news to predict their sentiment classes.\n",
    "- The two Datasets used were sourced from Kaggle.\n",
    "- The Project will be divided into proceedures & substeps for easier comprehension."
   ]
  },
  {
   "cell_type": "markdown",
   "id": "35b8d8b2",
   "metadata": {},
   "source": [
    "# About the Data\n",
    "We have two datasets,the first datasets which is for the model training,validation & evaluation is a collection of smaller datasets,while the second dataset which is for pure deployment of the model was gotten as a single dataset from Kaggle.\n",
    "The Datasets contain 2 columns,which are:\n",
    "1. text: this column contain the financial news in text format\n",
    "2. sentiment: this column contains the sentiment for every news as either \"positive,negative or neutral\""
   ]
  },
  {
   "cell_type": "markdown",
   "id": "87bb4026",
   "metadata": {},
   "source": [
    "# Proceedure 1- importing the first dataset, creating it's dataframe & E.D.A."
   ]
  },
  {
   "cell_type": "code",
   "execution_count": 1,
   "id": "8aeb2720",
   "metadata": {},
   "outputs": [],
   "source": [
    "import pandas as pd"
   ]
  },
  {
   "cell_type": "code",
   "execution_count": 2,
   "id": "3dd05a75",
   "metadata": {},
   "outputs": [
    {
     "data": {
      "text/html": [
       "<div>\n",
       "<style scoped>\n",
       "    .dataframe tbody tr th:only-of-type {\n",
       "        vertical-align: middle;\n",
       "    }\n",
       "\n",
       "    .dataframe tbody tr th {\n",
       "        vertical-align: top;\n",
       "    }\n",
       "\n",
       "    .dataframe thead th {\n",
       "        text-align: right;\n",
       "    }\n",
       "</style>\n",
       "<table border=\"1\" class=\"dataframe\">\n",
       "  <thead>\n",
       "    <tr style=\"text-align: right;\">\n",
       "      <th></th>\n",
       "      <th>text</th>\n",
       "      <th>sentiment</th>\n",
       "    </tr>\n",
       "  </thead>\n",
       "  <tbody>\n",
       "    <tr>\n",
       "      <th>0</th>\n",
       "      <td>['RT', 'RobertBeadles', 'Yo💥', 'Enter', 'WIN',...</td>\n",
       "      <td>positive</td>\n",
       "    </tr>\n",
       "    <tr>\n",
       "      <th>1</th>\n",
       "      <td>['SriLanka', 'surcharge', 'fuel', 'removed', '...</td>\n",
       "      <td>negative</td>\n",
       "    </tr>\n",
       "    <tr>\n",
       "      <th>2</th>\n",
       "      <td>['Net', 'issuance', 'increases', 'fund', 'fisc...</td>\n",
       "      <td>positive</td>\n",
       "    </tr>\n",
       "    <tr>\n",
       "      <th>3</th>\n",
       "      <td>['RT', 'bentboolean', 'much', 'Amazons', 'traf...</td>\n",
       "      <td>positive</td>\n",
       "    </tr>\n",
       "    <tr>\n",
       "      <th>4</th>\n",
       "      <td>['AMD', 'Ryzen', '4000', 'desktop', 'CPUs', 'l...</td>\n",
       "      <td>positive</td>\n",
       "    </tr>\n",
       "  </tbody>\n",
       "</table>\n",
       "</div>"
      ],
      "text/plain": [
       "                                                text sentiment\n",
       "0  ['RT', 'RobertBeadles', 'Yo💥', 'Enter', 'WIN',...  positive\n",
       "1  ['SriLanka', 'surcharge', 'fuel', 'removed', '...  negative\n",
       "2  ['Net', 'issuance', 'increases', 'fund', 'fisc...  positive\n",
       "3  ['RT', 'bentboolean', 'much', 'Amazons', 'traf...  positive\n",
       "4  ['AMD', 'Ryzen', '4000', 'desktop', 'CPUs', 'l...  positive"
      ]
     },
     "execution_count": 2,
     "metadata": {},
     "output_type": "execute_result"
    }
   ],
   "source": [
    "# from previous analysis the data seem to have mismatching index,steps were taken to solve that issue\n",
    "data = pd.read_csv(\"lstm_main.csv\")\n",
    "data.reset_index(inplace=True)\n",
    "data = data.drop(['Unnamed: 0','index'],axis=1)\n",
    "data = data.dropna()\n",
    "data.head()"
   ]
  },
  {
   "cell_type": "code",
   "execution_count": 67,
   "id": "28741f49",
   "metadata": {},
   "outputs": [
    {
     "name": "stdout",
     "output_type": "stream",
     "text": [
      "<class 'pandas.core.frame.DataFrame'>\n",
      "Int64Index: 22740 entries, 0 to 26439\n",
      "Data columns (total 3 columns):\n",
      " #   Column     Non-Null Count  Dtype \n",
      "---  ------     --------------  ----- \n",
      " 0   text       22740 non-null  object\n",
      " 1   sentiment  22740 non-null  object\n",
      " 2   word_len   22740 non-null  int64 \n",
      "dtypes: int64(1), object(2)\n",
      "memory usage: 1.2+ MB\n"
     ]
    }
   ],
   "source": [
    "data.info()"
   ]
  },
  {
   "cell_type": "code",
   "execution_count": 70,
   "id": "974b07e6",
   "metadata": {},
   "outputs": [
    {
     "data": {
      "text/plain": [
       "3"
      ]
     },
     "execution_count": 70,
     "metadata": {},
     "output_type": "execute_result"
    }
   ],
   "source": [
    "data['sentiment'].unique()"
   ]
  },
  {
   "cell_type": "markdown",
   "id": "60fdefc6",
   "metadata": {},
   "source": [
    "From the above analysis of the \"sentiment\" column,it seems we have more than our expected 3 unique values,these other values seem to have one of the needed values bound with some worthless info,so we'll need to extract the needed values & remove the unwanted extra data."
   ]
  },
  {
   "cell_type": "code",
   "execution_count": 4,
   "id": "7197831c",
   "metadata": {},
   "outputs": [],
   "source": [
    "# to do the extraction,we're using the regular expression module\n",
    "import re"
   ]
  },
  {
   "cell_type": "code",
   "execution_count": 5,
   "id": "b9f8200e",
   "metadata": {},
   "outputs": [],
   "source": [
    "# creating the function to extract the values\n",
    "def sent(x):\n",
    "    for v in ['positive','negative','neutral']:\n",
    "        com = re.compile(v)\n",
    "        srch = com.search(x)\n",
    "        if srch:\n",
    "            x = v\n",
    "            return x\n",
    "        else:\n",
    "            pass"
   ]
  },
  {
   "cell_type": "code",
   "execution_count": 6,
   "id": "0f5dafcc",
   "metadata": {},
   "outputs": [],
   "source": [
    "data['sentiment'] = data['sentiment'].apply(sent)"
   ]
  },
  {
   "cell_type": "code",
   "execution_count": 7,
   "id": "a626a86a",
   "metadata": {},
   "outputs": [
    {
     "data": {
      "text/plain": [
       "array(['positive', 'negative', 'neutral'], dtype=object)"
      ]
     },
     "execution_count": 7,
     "metadata": {},
     "output_type": "execute_result"
    }
   ],
   "source": [
    "data['sentiment'].unique()"
   ]
  },
  {
   "cell_type": "code",
   "execution_count": 75,
   "id": "dabda2dc",
   "metadata": {},
   "outputs": [
    {
     "name": "stdout",
     "output_type": "stream",
     "text": [
      "The data has 35% positive data values\n",
      "The data has 22% negative data values\n",
      "The data has 43% neutral data values\n"
     ]
    }
   ],
   "source": [
    "# checking the percentage of the data by sentiment class\n",
    "print(f\"The data has {round((len(data[data['sentiment']=='positive'])/len(data))*100)}% positive data values\")\n",
    "print(f\"The data has {round((len(data[data['sentiment']=='negative'])/len(data))*100)}% negative data values\")\n",
    "print(f\"The data has {round((len(data[data['sentiment']=='neutral'])/len(data))*100)}% neutral data values\")"
   ]
  },
  {
   "cell_type": "code",
   "execution_count": 8,
   "id": "e91f5d6c",
   "metadata": {},
   "outputs": [],
   "source": [
    "# creating a new column that measures the length of each financial news per words\n",
    "data['word_len'] = data['text'].apply(len)"
   ]
  },
  {
   "cell_type": "code",
   "execution_count": 9,
   "id": "5ca77499",
   "metadata": {},
   "outputs": [],
   "source": [
    "import seaborn as sns, matplotlib.pyplot as plt"
   ]
  },
  {
   "cell_type": "code",
   "execution_count": 11,
   "id": "06294039",
   "metadata": {},
   "outputs": [
    {
     "data": {
      "text/plain": [
       "<AxesSubplot:xlabel='word_len', ylabel='Count'>"
      ]
     },
     "execution_count": 11,
     "metadata": {},
     "output_type": "execute_result"
    },
    {
     "data": {
      "image/png": "[encoded data removed]",
      "text/plain": [
       "<Figure size 1080x576 with 1 Axes>"
      ]
     },
     "metadata": {
      "needs_background": "light"
     },
     "output_type": "display_data"
    }
   ],
   "source": [
    "# visualizing count of the news data by number of words\n",
    "plt.figure(figsize=(15,8))\n",
    "sns.histplot(data=data,x='word_len')"
   ]
  },
  {
   "cell_type": "markdown",
   "id": "4795645d",
   "metadata": {},
   "source": [
    "# Proceedure 2- Input data preprocessing,label data encoding & Train/Test split."
   ]
  },
  {
   "cell_type": "code",
   "execution_count": 12,
   "id": "560d14d6",
   "metadata": {},
   "outputs": [],
   "source": [
    "# for the text data processing,we would the \"Tokenizer\" module from keras & to pad the tokenised data we would use the\n",
    "# \"pad_sequence\" module also from keras..\n",
    "from tensorflow.keras.preprocessing.text import Tokenizer\n",
    "from tensorflow.keras.preprocessing.sequence import pad_sequences\n",
    "from sklearn.model_selection import train_test_split"
   ]
  },
  {
   "cell_type": "markdown",
   "id": "f152faa5",
   "metadata": {},
   "source": [
    "In order to pad the tokenised data,the \"pad_sequence\" function would need a maxlen value to standardise the length of all the  tokenised data. The plan is to use the mean value of all the word lengths as the \"maxlen\" value.."
   ]
  },
  {
   "cell_type": "code",
   "execution_count": 13,
   "id": "55cd8677",
   "metadata": {},
   "outputs": [],
   "source": [
    "# getting length of each text in the data\n",
    "lx = []\n",
    "for v in range(0,len(data)):\n",
    "    lx.append(len(data.iloc[v][0]))"
   ]
  },
  {
   "cell_type": "code",
   "execution_count": 14,
   "id": "0438eb5c",
   "metadata": {},
   "outputs": [],
   "source": [
    "from functools import reduce"
   ]
  },
  {
   "cell_type": "code",
   "execution_count": 15,
   "id": "c193f2b6",
   "metadata": {},
   "outputs": [
    {
     "data": {
      "text/plain": [
       "106"
      ]
     },
     "execution_count": 15,
     "metadata": {},
     "output_type": "execute_result"
    }
   ],
   "source": [
    "# summing all the text lengths & divided the result by the number of text values in the dataset to get the mean.\n",
    "def round_off(acc, item):\n",
    "    return acc + item\n",
    "pad_val = reduce(round_off, lx, 0)\n",
    "pad_val = round(pad_val/len(lx))\n",
    "pad_val"
   ]
  },
  {
   "cell_type": "code",
   "execution_count": 16,
   "id": "506b8cf8",
   "metadata": {},
   "outputs": [],
   "source": [
    "# creating a function to tag the target sentiments with numeric values.\n",
    "def tag(x):\n",
    "    if x == 'positive':\n",
    "        x = 1\n",
    "    if x == 'negative':\n",
    "        x = 2\n",
    "    if x == 'neutral':\n",
    "        x = 0\n",
    "    return x"
   ]
  },
  {
   "cell_type": "code",
   "execution_count": 17,
   "id": "a9a30d88",
   "metadata": {},
   "outputs": [],
   "source": [
    "X = data['text'].values\n",
    "y = data['sentiment'].apply(tag)"
   ]
  },
  {
   "cell_type": "code",
   "execution_count": 18,
   "id": "1b24b7d2",
   "metadata": {},
   "outputs": [],
   "source": [
    "# because we're doing categorical classification we would have to do one-hot encoding with the target values\n",
    "y = pd.get_dummies(y)"
   ]
  },
  {
   "cell_type": "code",
   "execution_count": 19,
   "id": "0dd25106",
   "metadata": {},
   "outputs": [],
   "source": [
    "# tokenising & padding the text data\n",
    "tokenizer = Tokenizer()\n",
    "tokenizer.fit_on_texts(X)\n",
    "X = tokenizer.texts_to_sequences(X)\n",
    "X = pad_sequences(X,maxlen=pad_val)"
   ]
  },
  {
   "cell_type": "code",
   "execution_count": 20,
   "id": "4247d27d",
   "metadata": {},
   "outputs": [],
   "source": [
    "# doing train/test split on the data\n",
    "X_train, X_test, y_train, y_test = train_test_split(X, y, test_size=0.3, random_state=42)"
   ]
  },
  {
   "cell_type": "markdown",
   "id": "e38aae51",
   "metadata": {},
   "source": [
    "# Proceedure 3- Building,training & evaluating the LSTM model"
   ]
  },
  {
   "cell_type": "code",
   "execution_count": null,
   "id": "3c1e7777",
   "metadata": {},
   "outputs": [],
   "source": [
    "# The model we would be using is the \"Sequential\" model from keras,the model will be built with the \"Embedding\" layer for \n",
    "# vectorising the tokenised data,2 \"LSTM\" layers as the main operational layers for the model & a \"Dense\" layer to flatten the\n",
    "# \"LSTM\" output & make the final prediction. We also add a \"SpatialDropout1D\" layer under the \"Embedding\" layer to prevent\n",
    "# overfitting,by randomly switching off random units in 1-dimension during every iteration.\n",
    "from tensorflow.keras.models import Sequential\n",
    "from tensorflow.keras.layers import Embedding,LSTM,Dense,SpatialDropout1D\n",
    "from tensorflow.keras.callbacks import EarlyStopping"
   ]
  },
  {
   "cell_type": "code",
   "execution_count": 21,
   "id": "ff703b78",
   "metadata": {},
   "outputs": [],
   "source": [
    "# creating an \"EarlyStopping\" instance to manage callbacks when overfitting is noticed in the model\n",
    "earlystop = EarlyStopping(patience=2)"
   ]
  },
  {
   "cell_type": "code",
   "execution_count": 22,
   "id": "13c37985",
   "metadata": {},
   "outputs": [
    {
     "name": "stdout",
     "output_type": "stream",
     "text": [
      "Model: \"sequential\"\n",
      "_________________________________________________________________\n",
      " Layer (type)                Output Shape              Param #   \n",
      "=================================================================\n",
      " embedding (Embedding)       (None, 106, 100)          2512100   \n",
      "                                                                 \n",
      " spatial_dropout1d (SpatialD  (None, 106, 100)         0         \n",
      " ropout1D)                                                       \n",
      "                                                                 \n",
      " lstm (LSTM)                 (None, 106, 100)          80400     \n",
      "                                                                 \n",
      " lstm_1 (LSTM)               (None, 100)               80400     \n",
      "                                                                 \n",
      " dense (Dense)               (None, 3)                 303       \n",
      "                                                                 \n",
      "=================================================================\n",
      "Total params: 2,673,203\n",
      "Trainable params: 2,673,203\n",
      "Non-trainable params: 0\n",
      "_________________________________________________________________\n",
      "None\n"
     ]
    }
   ],
   "source": [
    "# building the model\n",
    "model = Sequential()\n",
    "model.add(Embedding(input_dim=len(tokenizer.word_index)+1,output_dim=100,input_length=pad_val))\n",
    "model.add(SpatialDropout1D(0.8))\n",
    "model.add(LSTM(100,dropout=0.6,recurrent_dropout=0.5,return_sequences=True))\n",
    "model.add(LSTM(100,dropout=0.4,recurrent_dropout=0.5))\n",
    "model.add(Dense(3,activation='softmax'))\n",
    "model.compile(optimizer=\"adam\",loss=\"categorical_crossentropy\")\n",
    "\n",
    "print(model.summary())"
   ]
  },
  {
   "cell_type": "code",
   "execution_count": 23,
   "id": "81b96df0",
   "metadata": {},
   "outputs": [
    {
     "name": "stdout",
     "output_type": "stream",
     "text": [
      "Epoch 1/15\n",
      "125/125 [==============================] - 229s 2s/step - loss: 1.0438 - val_loss: 0.9302\n",
      "Epoch 2/15\n",
      "125/125 [==============================] - 265s 2s/step - loss: 0.9047 - val_loss: 0.8112\n",
      "Epoch 3/15\n",
      "125/125 [==============================] - 286s 2s/step - loss: 0.7802 - val_loss: 0.7175\n",
      "Epoch 4/15\n",
      "125/125 [==============================] - 271s 2s/step - loss: 0.6873 - val_loss: 0.6497\n",
      "Epoch 5/15\n",
      "125/125 [==============================] - 268s 2s/step - loss: 0.6205 - val_loss: 0.6325\n",
      "Epoch 6/15\n",
      "125/125 [==============================] - 269s 2s/step - loss: 0.5705 - val_loss: 0.6069\n",
      "Epoch 7/15\n",
      "125/125 [==============================] - 271s 2s/step - loss: 0.5135 - val_loss: 0.5935\n",
      "Epoch 8/15\n",
      "125/125 [==============================] - 279s 2s/step - loss: 0.4649 - val_loss: 0.6264\n",
      "Epoch 9/15\n",
      "125/125 [==============================] - 287s 2s/step - loss: 0.4241 - val_loss: 0.6050\n"
     ]
    },
    {
     "data": {
      "text/plain": [
       "<keras.callbacks.History at 0x25ae242b100>"
      ]
     },
     "execution_count": 23,
     "metadata": {},
     "output_type": "execute_result"
    }
   ],
   "source": [
    "# model training & validation\n",
    "model.fit(X_train,y_train,epochs=15,batch_size=128,validation_data=(X_test,y_test),callbacks=earlystop)"
   ]
  },
  {
   "cell_type": "code",
   "execution_count": 24,
   "id": "66e549a5",
   "metadata": {},
   "outputs": [
    {
     "data": {
      "text/plain": [
       "<AxesSubplot:>"
      ]
     },
     "execution_count": 24,
     "metadata": {},
     "output_type": "execute_result"
    },
    {
     "data": {
      "image/png": "[encoded data removed]",
      "text/plain": [
       "<Figure size 432x288 with 1 Axes>"
      ]
     },
     "metadata": {
      "needs_background": "light"
     },
     "output_type": "display_data"
    }
   ],
   "source": [
    "# visualising the loss validation\n",
    "loss = pd.DataFrame(model.history.history)\n",
    "loss.plot()"
   ]
  },
  {
   "cell_type": "code",
   "execution_count": 25,
   "id": "49e959fc",
   "metadata": {},
   "outputs": [],
   "source": [
    "import numpy as np"
   ]
  },
  {
   "cell_type": "code",
   "execution_count": 26,
   "id": "e7370953",
   "metadata": {},
   "outputs": [
    {
     "data": {
      "text/plain": [
       "array([[0, 0, 1],\n",
       "       [1, 0, 0],\n",
       "       [1, 0, 0],\n",
       "       ...,\n",
       "       [1, 0, 0],\n",
       "       [1, 0, 0],\n",
       "       [0, 1, 0]])"
      ]
     },
     "execution_count": 26,
     "metadata": {},
     "output_type": "execute_result"
    }
   ],
   "source": [
    "# testing the model\n",
    "pred =  np.round(model.predict(X_test)).astype(int)\n",
    "pred"
   ]
  },
  {
   "cell_type": "code",
   "execution_count": 27,
   "id": "3c04b008",
   "metadata": {},
   "outputs": [],
   "source": [
    "from sklearn.metrics import classification_report,confusion_matrix, explained_variance_score"
   ]
  },
  {
   "cell_type": "code",
   "execution_count": 76,
   "id": "d66fb5cb",
   "metadata": {},
   "outputs": [
    {
     "name": "stdout",
     "output_type": "stream",
     "text": [
      "              precision    recall  f1-score   support\n",
      "\n",
      "           0       0.86      0.72      0.78      2974\n",
      "           1       0.75      0.82      0.78      2380\n",
      "           2       0.72      0.64      0.68      1468\n",
      "\n",
      "   micro avg       0.78      0.74      0.76      6822\n",
      "   macro avg       0.77      0.73      0.75      6822\n",
      "weighted avg       0.79      0.74      0.76      6822\n",
      " samples avg       0.80      0.74      0.74      6822\n",
      "\n"
     ]
    }
   ],
   "source": [
    "# model evaluation\n",
    "print(classification_report(y_test,pred,zero_division=1))"
   ]
  },
  {
   "cell_type": "markdown",
   "id": "8241ecea",
   "metadata": {},
   "source": [
    "# Proceedure 4- Deploying the model to check it's performanance on unfamiliar data."
   ]
  },
  {
   "cell_type": "code",
   "execution_count": 35,
   "id": "43f9f3fe",
   "metadata": {},
   "outputs": [
    {
     "data": {
      "text/html": [
       "<div>\n",
       "<style scoped>\n",
       "    .dataframe tbody tr th:only-of-type {\n",
       "        vertical-align: middle;\n",
       "    }\n",
       "\n",
       "    .dataframe tbody tr th {\n",
       "        vertical-align: top;\n",
       "    }\n",
       "\n",
       "    .dataframe thead th {\n",
       "        text-align: right;\n",
       "    }\n",
       "</style>\n",
       "<table border=\"1\" class=\"dataframe\">\n",
       "  <thead>\n",
       "    <tr style=\"text-align: right;\">\n",
       "      <th></th>\n",
       "      <th>text</th>\n",
       "    </tr>\n",
       "  </thead>\n",
       "  <tbody>\n",
       "    <tr>\n",
       "      <th>0</th>\n",
       "      <td>['KennyDegu', 'little', 'volume', '10T', 'youd...</td>\n",
       "    </tr>\n",
       "    <tr>\n",
       "      <th>1</th>\n",
       "      <td>['ESF', 'achieved', 'Target', '2780', 'closing...</td>\n",
       "    </tr>\n",
       "    <tr>\n",
       "      <th>2</th>\n",
       "      <td>['RT', 'KimbleCharting', 'SilverGold', 'indica...</td>\n",
       "    </tr>\n",
       "    <tr>\n",
       "      <th>3</th>\n",
       "      <td>['Issaquahfunds', 'Hedged', 'MSFT', 'position'...</td>\n",
       "    </tr>\n",
       "    <tr>\n",
       "      <th>4</th>\n",
       "      <td>['RT', 'zipillinois', '3', 'Surprisingly', 'Co...</td>\n",
       "    </tr>\n",
       "  </tbody>\n",
       "</table>\n",
       "</div>"
      ],
      "text/plain": [
       "                                                text\n",
       "0  ['KennyDegu', 'little', 'volume', '10T', 'youd...\n",
       "1  ['ESF', 'achieved', 'Target', '2780', 'closing...\n",
       "2  ['RT', 'KimbleCharting', 'SilverGold', 'indica...\n",
       "3  ['Issaquahfunds', 'Hedged', 'MSFT', 'position'...\n",
       "4  ['RT', 'zipillinois', '3', 'Surprisingly', 'Co..."
      ]
     },
     "execution_count": 35,
     "metadata": {},
     "output_type": "execute_result"
    }
   ],
   "source": [
    "# importing the new data\n",
    "data2 = pd.read_csv('lstm_sub.csv')\n",
    "data2.reset_index(inplace=True)\n",
    "data2 = data2.drop(['Unnamed: 0','index'],axis=1)\n",
    "data2 = data2.dropna()\n",
    "data2.head()"
   ]
  },
  {
   "cell_type": "code",
   "execution_count": 36,
   "id": "e35f0f6f",
   "metadata": {},
   "outputs": [],
   "source": [
    "# tokenising & padding the new data with the template of the data used to train the model\n",
    "X_dep = tokenizer.texts_to_sequences(data2['text'])\n",
    "X_dep = pad_sequences(X_dep,maxlen=pad_val)"
   ]
  },
  {
   "cell_type": "code",
   "execution_count": 45,
   "id": "01bbe137",
   "metadata": {},
   "outputs": [
    {
     "data": {
      "text/plain": [
       "array([[1, 0, 0],\n",
       "       [0, 1, 0],\n",
       "       [0, 1, 0],\n",
       "       ...,\n",
       "       [0, 1, 0],\n",
       "       [0, 1, 0],\n",
       "       [0, 1, 0]])"
      ]
     },
     "execution_count": 45,
     "metadata": {},
     "output_type": "execute_result"
    }
   ],
   "source": [
    "# prediction the target values for the new data\n",
    "dep_pre = np.round(model.predict(X_dep)).astype(int)\n",
    "dep_pre"
   ]
  },
  {
   "cell_type": "code",
   "execution_count": 53,
   "id": "c5379961",
   "metadata": {},
   "outputs": [],
   "source": [
    "# creating a function to rewrite the target values from one-hot vectors to real numbers\n",
    "def evaluate(x):\n",
    "    lst = []\n",
    "    for v in x:\n",
    "        try: # from analysis it seems the model didn't make preidctions for some set of values in data,so we accomodate for \n",
    "            # such situation.\n",
    "            v = list(v)\n",
    "            lst.append(v.index(1))\n",
    "        except ValueError:\n",
    "            lst.append('no pred')\n",
    "    return lst"
   ]
  },
  {
   "cell_type": "code",
   "execution_count": 55,
   "id": "b5443a05",
   "metadata": {},
   "outputs": [],
   "source": [
    "dep_pre = evaluate(dep_pre)\n",
    "dep_pre"
   ]
  },
  {
   "cell_type": "code",
   "execution_count": 61,
   "id": "d61c95e1",
   "metadata": {},
   "outputs": [],
   "source": [
    "dep_pre = pd.Series(dep_pre)"
   ]
  },
  {
   "cell_type": "code",
   "execution_count": 66,
   "id": "5e69a85f",
   "metadata": {},
   "outputs": [
    {
     "name": "stdout",
     "output_type": "stream",
     "text": [
      "The model predicted 44% positive values in the dataset\n",
      "The model predicted 18% negative values in the dataset\n",
      "The model predicted 27% neutral values in the dataset\n",
      "The model made 12% no predictions in the dataset\n"
     ]
    }
   ],
   "source": [
    "# checking the percentage of each predicted class in the new data\n",
    "print(f'The model predicted {round((dep_pre.value_counts()[1]/len(data2))*100)}% positive values in the dataset')\n",
    "print(f'The model predicted {round((dep_pre.value_counts()[2]/len(data2))*100)}% negative values in the dataset')\n",
    "print(f'The model predicted {round((dep_pre.value_counts()[0]/len(data2))*100)}% neutral values in the dataset')\n",
    "print(f'The model made {round((dep_pre.value_counts()[\"no pred\"]/len(data2))*100)}% no predictions in the dataset')"
   ]
  },
  {
   "cell_type": "markdown",
   "id": "3765e6ad",
   "metadata": {},
   "source": [
    "# Project Summary\n",
    "The aim of the project was to deploy an LSTM deep learning model to perform Sentiment analysis on financial news text data."
   ]
  },
  {
   "cell_type": "code",
   "execution_count": null,
   "id": "33b3b037",
   "metadata": {},
   "outputs": [],
   "source": []
  }
 ],
 "metadata": {
  "kernelspec": {
   "display_name": "Python 3 (ipykernel)",
   "language": "python",
   "name": "python3"
  },
  "language_info": {
   "codemirror_mode": {
    "name": "ipython",
    "version": 3
   },
   "file_extension": ".py",
   "mimetype": "text/x-python",
   "name": "python",
   "nbconvert_exporter": "python",
   "pygments_lexer": "ipython3",
   "version": "3.9.7"
  }
 },
 "nbformat": 4,
 "nbformat_minor": 5
}
