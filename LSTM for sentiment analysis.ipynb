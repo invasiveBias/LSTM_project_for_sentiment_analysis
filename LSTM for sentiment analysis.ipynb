{
 "cells": [
  {
   "cell_type": "markdown",
   "id": "c87677c9",
   "metadata": {},
   "source": [
    "Here we'll understand how to do text processing with a **Long-Short term memory Neural networks(LSTM)** which are types of **Recurrent Neural networks(RNNs)**, these are types of neural networks that are built to predict temporal sequence data (i.e data structured with a time based sequence), unlike tradittional feed forward Neural networks in which neurons takes inputs,pad them with weights & biases,activate them with activation functions & feed the output forward to a new neuron(s),RNNs refeed the last output back into the neuron to be processed with the new imput,it's weights & biases, ths allows the new output to be partly determined by the last one, thereby defining the concept of temporal sequence(last point in time determines the new point). RNNs are used for Time Series analysis, Text classification, Pattern recognition,Sentiment Analysis etc. The disadvantages of RNNs is that they can't handle long sequences of data (even though they theoretically should) Too long sequences would make RNNs have the \"Exploding or Vanishing gradient problem\" during backpropagation,LSTMs were created to solve this problem, they are RNNs in which each input would have a cell state,this represents the importance of each input in the sequence, it would also be another factor value to determine the output, the cell state is passed through a control logic which contains 3 gates, they are:<br>\n",
    "1. forget gate: This would be an actiavtion function(sigmoid) that determines/filters how much of the new input value + previous output value should be forgotten as regards to the previous cell state.\n",
    "2. input gate: An activation fucntion(sigmoid) to determine/filter how much of the activated input value(input value is activated with a \"tanh function\" after being added with the prevous output) should be used to update the cell state\n",
    "3. output gate: An activation function(tanh) to determine/filter how much of the updated cell state value would be used to determint the new output value(the filtered cell state is passed alongside the input value & the last output value through a \"sigmoid function\" to determint the new output value)<br>\n",
    "\n",
    "With the logic control gates, LSTMs can be able to work through long sequences of data without having gradient problems.."
   ]
  },
  {
   "cell_type": "markdown",
   "id": "51eb519d",
   "metadata": {},
   "source": [
    "To do this project, we would use Amazon product review data from kaggle, our main focus will be on the columns that contain the reviews in text & the column that contain the numerical rating."
   ]
  },
  {
   "cell_type": "markdown",
   "id": "bb169f32",
   "metadata": {},
   "source": [
    "**Importing the Data, preprocessing & basic text corpus E.D.A**"
   ]
  },
  {
   "cell_type": "code",
   "execution_count": 1,
   "id": "1704bf06",
   "metadata": {},
   "outputs": [],
   "source": [
    "import pandas as pd, numpy as np, matplotlib.pyplot as plt, seaborn as sns"
   ]
  },
  {
   "cell_type": "code",
   "execution_count": 2,
   "id": "3ac83c62",
   "metadata": {},
   "outputs": [
    {
     "data": {
      "text/html": [
       "<div>\n",
       "<style scoped>\n",
       "    .dataframe tbody tr th:only-of-type {\n",
       "        vertical-align: middle;\n",
       "    }\n",
       "\n",
       "    .dataframe tbody tr th {\n",
       "        vertical-align: top;\n",
       "    }\n",
       "\n",
       "    .dataframe thead th {\n",
       "        text-align: right;\n",
       "    }\n",
       "</style>\n",
       "<table border=\"1\" class=\"dataframe\">\n",
       "  <thead>\n",
       "    <tr style=\"text-align: right;\">\n",
       "      <th></th>\n",
       "      <th>reviewerName</th>\n",
       "      <th>overall</th>\n",
       "      <th>reviewText</th>\n",
       "      <th>reviewTime</th>\n",
       "      <th>day_diff</th>\n",
       "      <th>helpful_yes</th>\n",
       "      <th>helpful_no</th>\n",
       "      <th>total_vote</th>\n",
       "      <th>score_pos_neg_diff</th>\n",
       "      <th>score_average_rating</th>\n",
       "      <th>wilson_lower_bound</th>\n",
       "    </tr>\n",
       "  </thead>\n",
       "  <tbody>\n",
       "    <tr>\n",
       "      <th>1</th>\n",
       "      <td>0mie</td>\n",
       "      <td>5.0</td>\n",
       "      <td>Purchased this for my device, it worked as adv...</td>\n",
       "      <td>2013-10-25</td>\n",
       "      <td>409</td>\n",
       "      <td>0</td>\n",
       "      <td>0</td>\n",
       "      <td>0</td>\n",
       "      <td>0</td>\n",
       "      <td>0.0</td>\n",
       "      <td>0.0</td>\n",
       "    </tr>\n",
       "    <tr>\n",
       "      <th>2</th>\n",
       "      <td>1K3</td>\n",
       "      <td>4.0</td>\n",
       "      <td>it works as expected. I should have sprung for...</td>\n",
       "      <td>2012-12-23</td>\n",
       "      <td>715</td>\n",
       "      <td>0</td>\n",
       "      <td>0</td>\n",
       "      <td>0</td>\n",
       "      <td>0</td>\n",
       "      <td>0.0</td>\n",
       "      <td>0.0</td>\n",
       "    </tr>\n",
       "    <tr>\n",
       "      <th>3</th>\n",
       "      <td>1m2</td>\n",
       "      <td>5.0</td>\n",
       "      <td>This think has worked out great.Had a diff. br...</td>\n",
       "      <td>2013-11-21</td>\n",
       "      <td>382</td>\n",
       "      <td>0</td>\n",
       "      <td>0</td>\n",
       "      <td>0</td>\n",
       "      <td>0</td>\n",
       "      <td>0.0</td>\n",
       "      <td>0.0</td>\n",
       "    </tr>\n",
       "    <tr>\n",
       "      <th>4</th>\n",
       "      <td>2&amp;amp;1/2Men</td>\n",
       "      <td>5.0</td>\n",
       "      <td>Bought it with Retail Packaging, arrived legit...</td>\n",
       "      <td>2013-07-13</td>\n",
       "      <td>513</td>\n",
       "      <td>0</td>\n",
       "      <td>0</td>\n",
       "      <td>0</td>\n",
       "      <td>0</td>\n",
       "      <td>0.0</td>\n",
       "      <td>0.0</td>\n",
       "    </tr>\n",
       "    <tr>\n",
       "      <th>5</th>\n",
       "      <td>2Cents!</td>\n",
       "      <td>5.0</td>\n",
       "      <td>It's mini storage.  It doesn't do anything els...</td>\n",
       "      <td>2013-04-29</td>\n",
       "      <td>588</td>\n",
       "      <td>0</td>\n",
       "      <td>0</td>\n",
       "      <td>0</td>\n",
       "      <td>0</td>\n",
       "      <td>0.0</td>\n",
       "      <td>0.0</td>\n",
       "    </tr>\n",
       "  </tbody>\n",
       "</table>\n",
       "</div>"
      ],
      "text/plain": [
       "   reviewerName  overall                                         reviewText  \\\n",
       "1          0mie      5.0  Purchased this for my device, it worked as adv...   \n",
       "2           1K3      4.0  it works as expected. I should have sprung for...   \n",
       "3           1m2      5.0  This think has worked out great.Had a diff. br...   \n",
       "4  2&amp;1/2Men      5.0  Bought it with Retail Packaging, arrived legit...   \n",
       "5       2Cents!      5.0  It's mini storage.  It doesn't do anything els...   \n",
       "\n",
       "   reviewTime  day_diff  helpful_yes  helpful_no  total_vote  \\\n",
       "1  2013-10-25       409            0           0           0   \n",
       "2  2012-12-23       715            0           0           0   \n",
       "3  2013-11-21       382            0           0           0   \n",
       "4  2013-07-13       513            0           0           0   \n",
       "5  2013-04-29       588            0           0           0   \n",
       "\n",
       "   score_pos_neg_diff  score_average_rating  wilson_lower_bound  \n",
       "1                   0                   0.0                 0.0  \n",
       "2                   0                   0.0                 0.0  \n",
       "3                   0                   0.0                 0.0  \n",
       "4                   0                   0.0                 0.0  \n",
       "5                   0                   0.0                 0.0  "
      ]
     },
     "execution_count": 2,
     "metadata": {},
     "output_type": "execute_result"
    }
   ],
   "source": [
    "data = pd.read_csv('amazon_reviews.csv')\n",
    "data.drop('Unnamed: 0',axis=1,inplace=True)\n",
    "data = data.dropna()\n",
    "data.head()"
   ]
  },
  {
   "cell_type": "code",
   "execution_count": 3,
   "id": "f7cc73b5",
   "metadata": {},
   "outputs": [
    {
     "data": {
      "text/html": [
       "<div>\n",
       "<style scoped>\n",
       "    .dataframe tbody tr th:only-of-type {\n",
       "        vertical-align: middle;\n",
       "    }\n",
       "\n",
       "    .dataframe tbody tr th {\n",
       "        vertical-align: top;\n",
       "    }\n",
       "\n",
       "    .dataframe thead th {\n",
       "        text-align: right;\n",
       "    }\n",
       "</style>\n",
       "<table border=\"1\" class=\"dataframe\">\n",
       "  <thead>\n",
       "    <tr style=\"text-align: right;\">\n",
       "      <th></th>\n",
       "      <th>reviewerName</th>\n",
       "      <th>overall</th>\n",
       "      <th>reviewText</th>\n",
       "      <th>reviewTime</th>\n",
       "      <th>day_diff</th>\n",
       "      <th>helpful_yes</th>\n",
       "      <th>helpful_no</th>\n",
       "      <th>total_vote</th>\n",
       "      <th>score_pos_neg_diff</th>\n",
       "      <th>score_average_rating</th>\n",
       "      <th>wilson_lower_bound</th>\n",
       "    </tr>\n",
       "  </thead>\n",
       "  <tbody>\n",
       "    <tr>\n",
       "      <th>1</th>\n",
       "      <td>0mie</td>\n",
       "      <td>5</td>\n",
       "      <td>Purchased this for my device, it worked as adv...</td>\n",
       "      <td>2013-10-25</td>\n",
       "      <td>409</td>\n",
       "      <td>0</td>\n",
       "      <td>0</td>\n",
       "      <td>0</td>\n",
       "      <td>0</td>\n",
       "      <td>0.0</td>\n",
       "      <td>0.0</td>\n",
       "    </tr>\n",
       "    <tr>\n",
       "      <th>2</th>\n",
       "      <td>1K3</td>\n",
       "      <td>4</td>\n",
       "      <td>it works as expected. I should have sprung for...</td>\n",
       "      <td>2012-12-23</td>\n",
       "      <td>715</td>\n",
       "      <td>0</td>\n",
       "      <td>0</td>\n",
       "      <td>0</td>\n",
       "      <td>0</td>\n",
       "      <td>0.0</td>\n",
       "      <td>0.0</td>\n",
       "    </tr>\n",
       "    <tr>\n",
       "      <th>3</th>\n",
       "      <td>1m2</td>\n",
       "      <td>5</td>\n",
       "      <td>This think has worked out great.Had a diff. br...</td>\n",
       "      <td>2013-11-21</td>\n",
       "      <td>382</td>\n",
       "      <td>0</td>\n",
       "      <td>0</td>\n",
       "      <td>0</td>\n",
       "      <td>0</td>\n",
       "      <td>0.0</td>\n",
       "      <td>0.0</td>\n",
       "    </tr>\n",
       "  </tbody>\n",
       "</table>\n",
       "</div>"
      ],
      "text/plain": [
       "  reviewerName  overall                                         reviewText  \\\n",
       "1         0mie        5  Purchased this for my device, it worked as adv...   \n",
       "2          1K3        4  it works as expected. I should have sprung for...   \n",
       "3          1m2        5  This think has worked out great.Had a diff. br...   \n",
       "\n",
       "   reviewTime  day_diff  helpful_yes  helpful_no  total_vote  \\\n",
       "1  2013-10-25       409            0           0           0   \n",
       "2  2012-12-23       715            0           0           0   \n",
       "3  2013-11-21       382            0           0           0   \n",
       "\n",
       "   score_pos_neg_diff  score_average_rating  wilson_lower_bound  \n",
       "1                   0                   0.0                 0.0  \n",
       "2                   0                   0.0                 0.0  \n",
       "3                   0                   0.0                 0.0  "
      ]
     },
     "execution_count": 3,
     "metadata": {},
     "output_type": "execute_result"
    }
   ],
   "source": [
    "data['overall'] = data['overall'].apply(int)\n",
    "data.head(3)"
   ]
  },
  {
   "cell_type": "code",
   "execution_count": 4,
   "id": "de236a37",
   "metadata": {},
   "outputs": [
    {
     "name": "stdout",
     "output_type": "stream",
     "text": [
      "<class 'pandas.core.frame.DataFrame'>\n",
      "Int64Index: 4913 entries, 1 to 4914\n",
      "Data columns (total 11 columns):\n",
      " #   Column                Non-Null Count  Dtype  \n",
      "---  ------                --------------  -----  \n",
      " 0   reviewerName          4913 non-null   object \n",
      " 1   overall               4913 non-null   int64  \n",
      " 2   reviewText            4913 non-null   object \n",
      " 3   reviewTime            4913 non-null   object \n",
      " 4   day_diff              4913 non-null   int64  \n",
      " 5   helpful_yes           4913 non-null   int64  \n",
      " 6   helpful_no            4913 non-null   int64  \n",
      " 7   total_vote            4913 non-null   int64  \n",
      " 8   score_pos_neg_diff    4913 non-null   int64  \n",
      " 9   score_average_rating  4913 non-null   float64\n",
      " 10  wilson_lower_bound    4913 non-null   float64\n",
      "dtypes: float64(2), int64(6), object(3)\n",
      "memory usage: 460.6+ KB\n"
     ]
    }
   ],
   "source": [
    "data.info()"
   ]
  },
  {
   "cell_type": "code",
   "execution_count": 5,
   "id": "d9fe4113",
   "metadata": {},
   "outputs": [
    {
     "data": {
      "text/plain": [
       "(4913, 11)"
      ]
     },
     "execution_count": 5,
     "metadata": {},
     "output_type": "execute_result"
    }
   ],
   "source": [
    "data.shape"
   ]
  },
  {
   "cell_type": "code",
   "execution_count": 6,
   "id": "22d3e7cf",
   "metadata": {},
   "outputs": [
    {
     "data": {
      "text/html": [
       "<div>\n",
       "<style scoped>\n",
       "    .dataframe tbody tr th:only-of-type {\n",
       "        vertical-align: middle;\n",
       "    }\n",
       "\n",
       "    .dataframe tbody tr th {\n",
       "        vertical-align: top;\n",
       "    }\n",
       "\n",
       "    .dataframe thead th {\n",
       "        text-align: right;\n",
       "    }\n",
       "</style>\n",
       "<table border=\"1\" class=\"dataframe\">\n",
       "  <thead>\n",
       "    <tr style=\"text-align: right;\">\n",
       "      <th></th>\n",
       "      <th>overall</th>\n",
       "      <th>day_diff</th>\n",
       "      <th>helpful_yes</th>\n",
       "      <th>helpful_no</th>\n",
       "      <th>total_vote</th>\n",
       "      <th>score_pos_neg_diff</th>\n",
       "      <th>score_average_rating</th>\n",
       "      <th>wilson_lower_bound</th>\n",
       "    </tr>\n",
       "  </thead>\n",
       "  <tbody>\n",
       "    <tr>\n",
       "      <th>count</th>\n",
       "      <td>4913.000000</td>\n",
       "      <td>4913.000000</td>\n",
       "      <td>4913.000000</td>\n",
       "      <td>4913.000000</td>\n",
       "      <td>4913.000000</td>\n",
       "      <td>4913.000000</td>\n",
       "      <td>4913.000000</td>\n",
       "      <td>4913.000000</td>\n",
       "    </tr>\n",
       "    <tr>\n",
       "      <th>mean</th>\n",
       "      <td>4.587625</td>\n",
       "      <td>437.346224</td>\n",
       "      <td>1.311215</td>\n",
       "      <td>0.210258</td>\n",
       "      <td>1.521474</td>\n",
       "      <td>1.100957</td>\n",
       "      <td>0.075363</td>\n",
       "      <td>0.020019</td>\n",
       "    </tr>\n",
       "    <tr>\n",
       "      <th>std</th>\n",
       "      <td>0.996995</td>\n",
       "      <td>209.360537</td>\n",
       "      <td>41.627627</td>\n",
       "      <td>4.024098</td>\n",
       "      <td>44.132066</td>\n",
       "      <td>39.375960</td>\n",
       "      <td>0.255973</td>\n",
       "      <td>0.077156</td>\n",
       "    </tr>\n",
       "    <tr>\n",
       "      <th>min</th>\n",
       "      <td>1.000000</td>\n",
       "      <td>1.000000</td>\n",
       "      <td>0.000000</td>\n",
       "      <td>0.000000</td>\n",
       "      <td>0.000000</td>\n",
       "      <td>-130.000000</td>\n",
       "      <td>0.000000</td>\n",
       "      <td>0.000000</td>\n",
       "    </tr>\n",
       "    <tr>\n",
       "      <th>25%</th>\n",
       "      <td>5.000000</td>\n",
       "      <td>281.000000</td>\n",
       "      <td>0.000000</td>\n",
       "      <td>0.000000</td>\n",
       "      <td>0.000000</td>\n",
       "      <td>0.000000</td>\n",
       "      <td>0.000000</td>\n",
       "      <td>0.000000</td>\n",
       "    </tr>\n",
       "    <tr>\n",
       "      <th>50%</th>\n",
       "      <td>5.000000</td>\n",
       "      <td>431.000000</td>\n",
       "      <td>0.000000</td>\n",
       "      <td>0.000000</td>\n",
       "      <td>0.000000</td>\n",
       "      <td>0.000000</td>\n",
       "      <td>0.000000</td>\n",
       "      <td>0.000000</td>\n",
       "    </tr>\n",
       "    <tr>\n",
       "      <th>75%</th>\n",
       "      <td>5.000000</td>\n",
       "      <td>601.000000</td>\n",
       "      <td>0.000000</td>\n",
       "      <td>0.000000</td>\n",
       "      <td>0.000000</td>\n",
       "      <td>0.000000</td>\n",
       "      <td>0.000000</td>\n",
       "      <td>0.000000</td>\n",
       "    </tr>\n",
       "    <tr>\n",
       "      <th>max</th>\n",
       "      <td>5.000000</td>\n",
       "      <td>1064.000000</td>\n",
       "      <td>1952.000000</td>\n",
       "      <td>183.000000</td>\n",
       "      <td>2020.000000</td>\n",
       "      <td>1884.000000</td>\n",
       "      <td>1.000000</td>\n",
       "      <td>0.957544</td>\n",
       "    </tr>\n",
       "  </tbody>\n",
       "</table>\n",
       "</div>"
      ],
      "text/plain": [
       "           overall     day_diff  helpful_yes   helpful_no   total_vote  \\\n",
       "count  4913.000000  4913.000000  4913.000000  4913.000000  4913.000000   \n",
       "mean      4.587625   437.346224     1.311215     0.210258     1.521474   \n",
       "std       0.996995   209.360537    41.627627     4.024098    44.132066   \n",
       "min       1.000000     1.000000     0.000000     0.000000     0.000000   \n",
       "25%       5.000000   281.000000     0.000000     0.000000     0.000000   \n",
       "50%       5.000000   431.000000     0.000000     0.000000     0.000000   \n",
       "75%       5.000000   601.000000     0.000000     0.000000     0.000000   \n",
       "max       5.000000  1064.000000  1952.000000   183.000000  2020.000000   \n",
       "\n",
       "       score_pos_neg_diff  score_average_rating  wilson_lower_bound  \n",
       "count         4913.000000           4913.000000         4913.000000  \n",
       "mean             1.100957              0.075363            0.020019  \n",
       "std             39.375960              0.255973            0.077156  \n",
       "min           -130.000000              0.000000            0.000000  \n",
       "25%              0.000000              0.000000            0.000000  \n",
       "50%              0.000000              0.000000            0.000000  \n",
       "75%              0.000000              0.000000            0.000000  \n",
       "max           1884.000000              1.000000            0.957544  "
      ]
     },
     "execution_count": 6,
     "metadata": {},
     "output_type": "execute_result"
    }
   ],
   "source": [
    "data.describe()"
   ]
  },
  {
   "cell_type": "code",
   "execution_count": 7,
   "id": "0354d037",
   "metadata": {},
   "outputs": [
    {
     "data": {
      "text/html": [
       "<div>\n",
       "<style scoped>\n",
       "    .dataframe tbody tr th:only-of-type {\n",
       "        vertical-align: middle;\n",
       "    }\n",
       "\n",
       "    .dataframe tbody tr th {\n",
       "        vertical-align: top;\n",
       "    }\n",
       "\n",
       "    .dataframe thead th {\n",
       "        text-align: right;\n",
       "    }\n",
       "</style>\n",
       "<table border=\"1\" class=\"dataframe\">\n",
       "  <thead>\n",
       "    <tr style=\"text-align: right;\">\n",
       "      <th></th>\n",
       "      <th>reviewText</th>\n",
       "      <th>overall</th>\n",
       "    </tr>\n",
       "  </thead>\n",
       "  <tbody>\n",
       "    <tr>\n",
       "      <th>1</th>\n",
       "      <td>Purchased this for my device, it worked as adv...</td>\n",
       "      <td>5</td>\n",
       "    </tr>\n",
       "    <tr>\n",
       "      <th>2</th>\n",
       "      <td>it works as expected. I should have sprung for...</td>\n",
       "      <td>4</td>\n",
       "    </tr>\n",
       "    <tr>\n",
       "      <th>3</th>\n",
       "      <td>This think has worked out great.Had a diff. br...</td>\n",
       "      <td>5</td>\n",
       "    </tr>\n",
       "    <tr>\n",
       "      <th>4</th>\n",
       "      <td>Bought it with Retail Packaging, arrived legit...</td>\n",
       "      <td>5</td>\n",
       "    </tr>\n",
       "    <tr>\n",
       "      <th>5</th>\n",
       "      <td>It's mini storage.  It doesn't do anything els...</td>\n",
       "      <td>5</td>\n",
       "    </tr>\n",
       "  </tbody>\n",
       "</table>\n",
       "</div>"
      ],
      "text/plain": [
       "                                          reviewText  overall\n",
       "1  Purchased this for my device, it worked as adv...        5\n",
       "2  it works as expected. I should have sprung for...        4\n",
       "3  This think has worked out great.Had a diff. br...        5\n",
       "4  Bought it with Retail Packaging, arrived legit...        5\n",
       "5  It's mini storage.  It doesn't do anything els...        5"
      ]
     },
     "execution_count": 7,
     "metadata": {},
     "output_type": "execute_result"
    }
   ],
   "source": [
    "# we reduce the data to the 2 important columns \"reviewText & overall\"\n",
    "data = data[['reviewText','overall']]\n",
    "data.head()"
   ]
  },
  {
   "cell_type": "code",
   "execution_count": 8,
   "id": "6046a073",
   "metadata": {},
   "outputs": [
    {
     "data": {
      "text/html": [
       "<div>\n",
       "<style scoped>\n",
       "    .dataframe tbody tr th:only-of-type {\n",
       "        vertical-align: middle;\n",
       "    }\n",
       "\n",
       "    .dataframe tbody tr th {\n",
       "        vertical-align: top;\n",
       "    }\n",
       "\n",
       "    .dataframe thead th {\n",
       "        text-align: right;\n",
       "    }\n",
       "</style>\n",
       "<table border=\"1\" class=\"dataframe\">\n",
       "  <thead>\n",
       "    <tr style=\"text-align: right;\">\n",
       "      <th></th>\n",
       "      <th>reviewText</th>\n",
       "      <th>overall</th>\n",
       "      <th>reviewTextLen</th>\n",
       "    </tr>\n",
       "  </thead>\n",
       "  <tbody>\n",
       "    <tr>\n",
       "      <th>1</th>\n",
       "      <td>Purchased this for my device, it worked as adv...</td>\n",
       "      <td>5</td>\n",
       "      <td>158</td>\n",
       "    </tr>\n",
       "    <tr>\n",
       "      <th>2</th>\n",
       "      <td>it works as expected. I should have sprung for...</td>\n",
       "      <td>4</td>\n",
       "      <td>166</td>\n",
       "    </tr>\n",
       "    <tr>\n",
       "      <th>3</th>\n",
       "      <td>This think has worked out great.Had a diff. br...</td>\n",
       "      <td>5</td>\n",
       "      <td>340</td>\n",
       "    </tr>\n",
       "    <tr>\n",
       "      <th>4</th>\n",
       "      <td>Bought it with Retail Packaging, arrived legit...</td>\n",
       "      <td>5</td>\n",
       "      <td>290</td>\n",
       "    </tr>\n",
       "    <tr>\n",
       "      <th>5</th>\n",
       "      <td>It's mini storage.  It doesn't do anything els...</td>\n",
       "      <td>5</td>\n",
       "      <td>282</td>\n",
       "    </tr>\n",
       "  </tbody>\n",
       "</table>\n",
       "</div>"
      ],
      "text/plain": [
       "                                          reviewText  overall  reviewTextLen\n",
       "1  Purchased this for my device, it worked as adv...        5            158\n",
       "2  it works as expected. I should have sprung for...        4            166\n",
       "3  This think has worked out great.Had a diff. br...        5            340\n",
       "4  Bought it with Retail Packaging, arrived legit...        5            290\n",
       "5  It's mini storage.  It doesn't do anything els...        5            282"
      ]
     },
     "execution_count": 8,
     "metadata": {},
     "output_type": "execute_result"
    }
   ],
   "source": [
    "# getting the length of each review text\n",
    "data['reviewTextLen'] = data['reviewText'].apply(lambda x : 0 if type(x)== float else len(x) )\n",
    "data.head()"
   ]
  },
  {
   "cell_type": "code",
   "execution_count": 9,
   "id": "ca937fd1",
   "metadata": {},
   "outputs": [
    {
     "data": {
      "text/plain": [
       "838"
      ]
     },
     "execution_count": 9,
     "metadata": {},
     "output_type": "execute_result"
    }
   ],
   "source": [
    "data['reviewTextLen'].nunique()"
   ]
  },
  {
   "cell_type": "code",
   "execution_count": 10,
   "id": "fffd81ad",
   "metadata": {},
   "outputs": [
    {
     "data": {
      "text/plain": [
       "<AxesSubplot:ylabel='Frequency'>"
      ]
     },
     "execution_count": 10,
     "metadata": {},
     "output_type": "execute_result"
    },
    {
     "data": {
      "image/png": "[encoded data removed]",
      "text/plain": [
       "<Figure size 432x288 with 1 Axes>"
      ]
     },
     "metadata": {
      "needs_background": "light"
     },
     "output_type": "display_data"
    }
   ],
   "source": [
    "data['reviewTextLen'].plot(kind=\"hist\",xlim=(0,2500),bins=100)"
   ]
  },
  {
   "cell_type": "code",
   "execution_count": 11,
   "id": "1caecf2b",
   "metadata": {},
   "outputs": [
    {
     "data": {
      "text/plain": [
       "<AxesSubplot:ylabel='Frequency'>"
      ]
     },
     "execution_count": 11,
     "metadata": {},
     "output_type": "execute_result"
    },
    {
     "data": {
      "image/png": "[encoded data removed]",
      "text/plain": [
       "<Figure size 432x288 with 1 Axes>"
      ]
     },
     "metadata": {
      "needs_background": "light"
     },
     "output_type": "display_data"
    }
   ],
   "source": [
    "data['overall'].plot(kind=\"hist\")"
   ]
  },
  {
   "cell_type": "code",
   "execution_count": 12,
   "id": "fac710e7",
   "metadata": {},
   "outputs": [
    {
     "name": "stderr",
     "output_type": "stream",
     "text": [
      "[nltk_data] Error loading averaged_perceptron_tagger: <urlopen error\n",
      "[nltk_data]     [Errno 11001] getaddrinfo failed>\n"
     ]
    },
    {
     "data": {
      "text/plain": [
       "False"
      ]
     },
     "execution_count": 12,
     "metadata": {},
     "output_type": "execute_result"
    }
   ],
   "source": [
    "# importing the text processing tools from the \"string & nltk\" libraries \n",
    "import string, nltk\n",
    "from nltk import word_tokenize\n",
    "from nltk.corpus import stopwords\n",
    "nltk.download('averaged_perceptron_tagger')"
   ]
  },
  {
   "cell_type": "code",
   "execution_count": 13,
   "id": "173b6a85",
   "metadata": {},
   "outputs": [],
   "source": [
    "# cleaning each text of punctuations & stopwords\n",
    "def cleaner(x):\n",
    "    cln = [word for word in x if word not in string.punctuation]\n",
    "    cln = ''.join(cln)\n",
    "    return [word for word in cln.split() if word.lower() not in stopwords.words('english')]"
   ]
  },
  {
   "cell_type": "code",
   "execution_count": 14,
   "id": "aec80ae6",
   "metadata": {},
   "outputs": [],
   "source": [
    "# categorization of target values into text form\n",
    "def sentiments(x):\n",
    "    if x == 5 :\n",
    "        snt = 'loves our product'\n",
    "    if x == 4:\n",
    "        snt = 'likes our product'\n",
    "    if x == 3:\n",
    "        snt = 'prefers our product'\n",
    "    if x == 2:\n",
    "        snt = 'isn\\'t impressed by our product'\n",
    "    if x == 1:\n",
    "        snt = 'doesn\\'t like our product'\n",
    "    return snt"
   ]
  },
  {
   "cell_type": "code",
   "execution_count": 15,
   "id": "a8f6b1d3",
   "metadata": {},
   "outputs": [],
   "source": [
    "data['reviewText'] = data['reviewText'].apply(cleaner)\n",
    "data['sentiment'] = data['overall'].apply(sentiments)"
   ]
  },
  {
   "cell_type": "code",
   "execution_count": 16,
   "id": "665ddbe7",
   "metadata": {},
   "outputs": [],
   "source": [
    "dataX = data"
   ]
  },
  {
   "cell_type": "code",
   "execution_count": 17,
   "id": "93af8172",
   "metadata": {},
   "outputs": [
    {
     "data": {
      "text/plain": [
       "<AxesSubplot:xlabel='reviewTextLen', ylabel='Count'>"
      ]
     },
     "execution_count": 17,
     "metadata": {},
     "output_type": "execute_result"
    },
    {
     "data": {
      "image/png": "[encoded data removed]",
      "text/plain": [
       "<Figure size 432x288 with 1 Axes>"
      ]
     },
     "metadata": {
      "needs_background": "light"
     },
     "output_type": "display_data"
    }
   ],
   "source": [
    "# visualizing the length of review texts by the ratings\n",
    "sns.histplot(data=data, x='reviewTextLen',hue='overall',bins=50,palette='winter')"
   ]
  },
  {
   "cell_type": "markdown",
   "id": "715eaf66",
   "metadata": {},
   "source": [
    "**Advanced Text corpus E.D.A(weighing the importance of each part of speech in the corpus)**: We will do this by first extracting each word in the reviews & replacing them with their part of speech,using the \"pos_tag\" method from \"nltk\", we will then use the \"CountVectorizer\" module from scikit-learn to convert the part of speech tags in the reviews to numeric values, then we would use the \"TfIdf vectorizer\" module to calculate the importance of each part of speech in each review relative to the whole/corpus or document,then we would create a new dataframe & then visualize the part of speech importance for each reviews to the ratings they were given."
   ]
  },
  {
   "cell_type": "code",
   "execution_count": 18,
   "id": "c8dcca49",
   "metadata": {},
   "outputs": [],
   "source": [
    "# creating te part of speech tag function\n",
    "def pos_tag(x):\n",
    "    tag_list = nltk.pos_tag(x)\n",
    "    tagger = []\n",
    "    for v in tag_list:\n",
    "        v = list(v)\n",
    "        if v[1] in ['NN','NNP','NNPS','NNS']:\n",
    "            v[1] = 'noun'\n",
    "            tagger.append(v[1])\n",
    "        if v[1] in ['VB','VBD','VBG','VBN','VBP','VBZ']:\n",
    "            v[1] = 'verb'\n",
    "            tagger.append(v[1])\n",
    "        if v[1] == 'CC':\n",
    "            v[1] = 'conjuction'\n",
    "            tagger.append(v[1])\n",
    "        if v[1] == 'CD':\n",
    "            v[1] = 'numeric & dates'\n",
    "            tagger.append(v[1])\n",
    "        if v[1] == 'DT':\n",
    "            v[1] = 'determiner'\n",
    "            tagger.append(v[1])\n",
    "        if v[1] == 'FW':\n",
    "            v[1] = 'foreign word'\n",
    "            tagger.append(v[1])\n",
    "        if v[1] == 'IN':\n",
    "            v[1] = 'Conjunction'\n",
    "            tagger.append(v[1])\n",
    "        if v[1] in ['JJ','JJR','JJS']:\n",
    "            v[1] = 'Adjective'\n",
    "            tagger.append(v[1])\n",
    "        if v[1] in ['PRP','PRP$']:\n",
    "            v[1] = 'pronoun'\n",
    "            tagger.append(v[1])\n",
    "        if v[1] in ['RB','RBR','RBS']:\n",
    "            v[1] = 'Adverb'\n",
    "        if v[1] == 'UH':\n",
    "            v[1] = 'Interjection'\n",
    "            tagger.append(v[1])\n",
    "        if v[1] == 'MD':\n",
    "            v[1] = 'Modal auxiliary'\n",
    "            tagger.append(v[1])\n",
    "        if v[1] == 'RP':\n",
    "            v[1] = 'Particle'\n",
    "            tagger.append(v[1])\n",
    "        if v[1] == 'SYM':\n",
    "            v[1] = 'Symbol'\n",
    "            tagger.append(v[1])\n",
    "    return tagger"
   ]
  },
  {
   "cell_type": "code",
   "execution_count": 19,
   "id": "12605874",
   "metadata": {},
   "outputs": [],
   "source": [
    "from sklearn.feature_extraction.text import CountVectorizer"
   ]
  },
  {
   "cell_type": "code",
   "execution_count": 20,
   "id": "00920be9",
   "metadata": {},
   "outputs": [],
   "source": [
    "# turning each part of speech to a numerical value\n",
    "vector = CountVectorizer(analyzer=pos_tag).fit(dataX['reviewText'])"
   ]
  },
  {
   "cell_type": "code",
   "execution_count": 21,
   "id": "7a53aeb6",
   "metadata": {},
   "outputs": [
    {
     "data": {
      "text/plain": [
       "{'verb': 11,\n",
       " 'noun': 8,\n",
       " 'Adjective': 0,\n",
       " 'Conjunction': 1,\n",
       " 'numeric & dates': 9,\n",
       " 'Modal auxiliary': 3,\n",
       " 'foreign word': 7,\n",
       " 'Particle': 4,\n",
       " 'determiner': 6,\n",
       " 'conjuction': 5,\n",
       " 'pronoun': 10,\n",
       " 'Interjection': 2}"
      ]
     },
     "execution_count": 21,
     "metadata": {},
     "output_type": "execute_result"
    }
   ],
   "source": [
    "vector.vocabulary_"
   ]
  },
  {
   "cell_type": "code",
   "execution_count": 22,
   "id": "ac98681f",
   "metadata": {},
   "outputs": [],
   "source": [
    "x_data = vector.transform(dataX['reviewText'])"
   ]
  },
  {
   "cell_type": "code",
   "execution_count": 23,
   "id": "8f03cd53",
   "metadata": {},
   "outputs": [
    {
     "data": {
      "text/plain": [
       "(4913, 12)"
      ]
     },
     "execution_count": 23,
     "metadata": {},
     "output_type": "execute_result"
    }
   ],
   "source": [
    "x_data.shape"
   ]
  },
  {
   "cell_type": "code",
   "execution_count": 24,
   "id": "dd8bc72e",
   "metadata": {},
   "outputs": [],
   "source": [
    "from sklearn.feature_extraction.text import TfidfTransformer"
   ]
  },
  {
   "cell_type": "code",
   "execution_count": 25,
   "id": "7d9bd53d",
   "metadata": {},
   "outputs": [
    {
     "data": {
      "text/plain": [
       "(4913, 12)"
      ]
     },
     "execution_count": 25,
     "metadata": {},
     "output_type": "execute_result"
    }
   ],
   "source": [
    "# calculating the term frequency inverse document frequency(ie importance) of each part of speech in the general text\n",
    "tfidf = TfidfTransformer()\n",
    "tfidf.fit(x_data)\n",
    "tx_data = tfidf.transform(x_data) \n",
    "tx_data.shape"
   ]
  },
  {
   "cell_type": "code",
   "execution_count": 26,
   "id": "46d1cd89",
   "metadata": {},
   "outputs": [
    {
     "data": {
      "text/html": [
       "<div>\n",
       "<style scoped>\n",
       "    .dataframe tbody tr th:only-of-type {\n",
       "        vertical-align: middle;\n",
       "    }\n",
       "\n",
       "    .dataframe tbody tr th {\n",
       "        vertical-align: top;\n",
       "    }\n",
       "\n",
       "    .dataframe thead th {\n",
       "        text-align: right;\n",
       "    }\n",
       "</style>\n",
       "<table border=\"1\" class=\"dataframe\">\n",
       "  <thead>\n",
       "    <tr style=\"text-align: right;\">\n",
       "      <th></th>\n",
       "      <th>Adjective</th>\n",
       "      <th>Conjunction</th>\n",
       "      <th>Interjection</th>\n",
       "      <th>Modal auxiliary</th>\n",
       "      <th>Particle</th>\n",
       "      <th>conjuction</th>\n",
       "      <th>determiner</th>\n",
       "      <th>foreign word</th>\n",
       "      <th>noun</th>\n",
       "      <th>numeric &amp; dates</th>\n",
       "      <th>pronoun</th>\n",
       "      <th>verb</th>\n",
       "      <th>rating</th>\n",
       "    </tr>\n",
       "  </thead>\n",
       "  <tbody>\n",
       "    <tr>\n",
       "      <th>1</th>\n",
       "      <td>0.140029</td>\n",
       "      <td>0.297126</td>\n",
       "      <td>0.0</td>\n",
       "      <td>0.0</td>\n",
       "      <td>0.0</td>\n",
       "      <td>0.0</td>\n",
       "      <td>0.0</td>\n",
       "      <td>0.0</td>\n",
       "      <td>0.905890</td>\n",
       "      <td>0.000000</td>\n",
       "      <td>0.0</td>\n",
       "      <td>0.267339</td>\n",
       "      <td>5</td>\n",
       "    </tr>\n",
       "    <tr>\n",
       "      <th>2</th>\n",
       "      <td>0.515824</td>\n",
       "      <td>0.000000</td>\n",
       "      <td>0.0</td>\n",
       "      <td>0.0</td>\n",
       "      <td>0.0</td>\n",
       "      <td>0.0</td>\n",
       "      <td>0.0</td>\n",
       "      <td>0.0</td>\n",
       "      <td>0.595895</td>\n",
       "      <td>0.000000</td>\n",
       "      <td>0.0</td>\n",
       "      <td>0.615496</td>\n",
       "      <td>4</td>\n",
       "    </tr>\n",
       "    <tr>\n",
       "      <th>3</th>\n",
       "      <td>0.209739</td>\n",
       "      <td>0.296694</td>\n",
       "      <td>0.0</td>\n",
       "      <td>0.0</td>\n",
       "      <td>0.0</td>\n",
       "      <td>0.0</td>\n",
       "      <td>0.0</td>\n",
       "      <td>0.0</td>\n",
       "      <td>0.775349</td>\n",
       "      <td>0.394295</td>\n",
       "      <td>0.0</td>\n",
       "      <td>0.333688</td>\n",
       "      <td>5</td>\n",
       "    </tr>\n",
       "    <tr>\n",
       "      <th>4</th>\n",
       "      <td>0.304013</td>\n",
       "      <td>0.107513</td>\n",
       "      <td>0.0</td>\n",
       "      <td>0.0</td>\n",
       "      <td>0.0</td>\n",
       "      <td>0.0</td>\n",
       "      <td>0.0</td>\n",
       "      <td>0.0</td>\n",
       "      <td>0.889718</td>\n",
       "      <td>0.214321</td>\n",
       "      <td>0.0</td>\n",
       "      <td>0.241838</td>\n",
       "      <td>5</td>\n",
       "    </tr>\n",
       "    <tr>\n",
       "      <th>5</th>\n",
       "      <td>0.076866</td>\n",
       "      <td>0.163101</td>\n",
       "      <td>0.0</td>\n",
       "      <td>0.0</td>\n",
       "      <td>0.0</td>\n",
       "      <td>0.0</td>\n",
       "      <td>0.0</td>\n",
       "      <td>0.0</td>\n",
       "      <td>0.852460</td>\n",
       "      <td>0.216754</td>\n",
       "      <td>0.0</td>\n",
       "      <td>0.440250</td>\n",
       "      <td>5</td>\n",
       "    </tr>\n",
       "  </tbody>\n",
       "</table>\n",
       "</div>"
      ],
      "text/plain": [
       "   Adjective  Conjunction  Interjection  Modal auxiliary  Particle  \\\n",
       "1   0.140029     0.297126           0.0              0.0       0.0   \n",
       "2   0.515824     0.000000           0.0              0.0       0.0   \n",
       "3   0.209739     0.296694           0.0              0.0       0.0   \n",
       "4   0.304013     0.107513           0.0              0.0       0.0   \n",
       "5   0.076866     0.163101           0.0              0.0       0.0   \n",
       "\n",
       "   conjuction  determiner  foreign word      noun  numeric & dates  pronoun  \\\n",
       "1         0.0         0.0           0.0  0.905890         0.000000      0.0   \n",
       "2         0.0         0.0           0.0  0.595895         0.000000      0.0   \n",
       "3         0.0         0.0           0.0  0.775349         0.394295      0.0   \n",
       "4         0.0         0.0           0.0  0.889718         0.214321      0.0   \n",
       "5         0.0         0.0           0.0  0.852460         0.216754      0.0   \n",
       "\n",
       "       verb  rating  \n",
       "1  0.267339       5  \n",
       "2  0.615496       4  \n",
       "3  0.333688       5  \n",
       "4  0.241838       5  \n",
       "5  0.440250       5  "
      ]
     },
     "execution_count": 26,
     "metadata": {},
     "output_type": "execute_result"
    }
   ],
   "source": [
    "# creating the new dataframe to hold the 'tfidf values\" & the ratings'\n",
    "c = 0\n",
    "lx = []\n",
    "new_data = pd.DataFrame.sparse.from_spmatrix(tx_data)\n",
    "while len(lx) < len(vector.vocabulary_) :\n",
    "    for x,y in vector.vocabulary_.items():\n",
    "        try:\n",
    "            if y == new_data.columns.values[c]:\n",
    "                lx.append(x)\n",
    "                c += 1\n",
    "            else:\n",
    "                pass\n",
    "        except IndexError :\n",
    "            pass\n",
    "new_data.columns = lx\n",
    "new_data.index = [x for x in range(1,len(new_data)+1)]\n",
    "new_data['rating'] = dataX['overall']\n",
    "new_data.dropna(inplace=True)\n",
    "new_data['rating'] = new_data['rating'] .apply(int)\n",
    "new_data.head()\n",
    "new_data.head()"
   ]
  },
  {
   "cell_type": "code",
   "execution_count": 27,
   "id": "1c4599cd",
   "metadata": {},
   "outputs": [
    {
     "data": {
      "text/plain": [
       "<AxesSubplot:>"
      ]
     },
     "execution_count": 27,
     "metadata": {},
     "output_type": "execute_result"
    },
    {
     "data": {
      "image/png": "[encoded data removed]",
      "text/plain": [
       "<Figure size 1440x360 with 1 Axes>"
      ]
     },
     "metadata": {
      "needs_background": "light"
     },
     "output_type": "display_data"
    }
   ],
   "source": [
    "# plotting the part of speech \"tfidf values\" for ratings equal to 1\n",
    "plt.figure(figsize=(20,5))\n",
    "d1 = new_data[new_data['rating']==1]\n",
    "sns.barplot(data =d1[d1.columns[:-1]])"
   ]
  },
  {
   "cell_type": "code",
   "execution_count": 28,
   "id": "1de0f245",
   "metadata": {},
   "outputs": [
    {
     "data": {
      "text/plain": [
       "<AxesSubplot:>"
      ]
     },
     "execution_count": 28,
     "metadata": {},
     "output_type": "execute_result"
    },
    {
     "data": {
      "image/png": "[encoded data removed]",
      "text/plain": [
       "<Figure size 1440x360 with 1 Axes>"
      ]
     },
     "metadata": {
      "needs_background": "light"
     },
     "output_type": "display_data"
    }
   ],
   "source": [
    "# plotting the part of speech \"tfidf values\" for ratings equal to 2\n",
    "plt.figure(figsize=(20,5))\n",
    "d2 = new_data[new_data['rating']==2]\n",
    "sns.barplot(data =d2[d2.columns[:-1]])"
   ]
  },
  {
   "cell_type": "code",
   "execution_count": 29,
   "id": "8f639693",
   "metadata": {},
   "outputs": [
    {
     "data": {
      "text/plain": [
       "<AxesSubplot:>"
      ]
     },
     "execution_count": 29,
     "metadata": {},
     "output_type": "execute_result"
    },
    {
     "data": {
      "image/png": "[encoded data removed]",
      "text/plain": [
       "<Figure size 1440x360 with 1 Axes>"
      ]
     },
     "metadata": {
      "needs_background": "light"
     },
     "output_type": "display_data"
    }
   ],
   "source": [
    "# plotting the part of speech \"tfidf values\" for ratings equal to 3\n",
    "plt.figure(figsize=(20,5))\n",
    "d3 = new_data[new_data['rating']==3]\n",
    "sns.barplot(data =d3[d3.columns[:-1]])"
   ]
  },
  {
   "cell_type": "code",
   "execution_count": 30,
   "id": "6854b0ba",
   "metadata": {},
   "outputs": [
    {
     "data": {
      "text/plain": [
       "<AxesSubplot:>"
      ]
     },
     "execution_count": 30,
     "metadata": {},
     "output_type": "execute_result"
    },
    {
     "data": {
      "image/png": "[encoded data removed]",
      "text/plain": [
       "<Figure size 1440x360 with 1 Axes>"
      ]
     },
     "metadata": {
      "needs_background": "light"
     },
     "output_type": "display_data"
    }
   ],
   "source": [
    "# plotting the part of speech \"tfidf values\" for ratings equal to 4\n",
    "plt.figure(figsize=(20,5))\n",
    "d4 = new_data[new_data['rating']==4]\n",
    "sns.barplot(data =d4[d4.columns[:-1]])"
   ]
  },
  {
   "cell_type": "code",
   "execution_count": 31,
   "id": "6503d41c",
   "metadata": {},
   "outputs": [
    {
     "data": {
      "text/plain": [
       "<AxesSubplot:>"
      ]
     },
     "execution_count": 31,
     "metadata": {},
     "output_type": "execute_result"
    },
    {
     "data": {
      "image/png": "[encoded data removed]",
      "text/plain": [
       "<Figure size 1440x360 with 1 Axes>"
      ]
     },
     "metadata": {
      "needs_background": "light"
     },
     "output_type": "display_data"
    }
   ],
   "source": [
    "# plotting the part of speech \"tfidf values\" for ratings equal to 5\n",
    "plt.figure(figsize=(20,5))\n",
    "d5 = new_data[new_data['rating']==5]\n",
    "sns.barplot(data =d5[d5.columns[:-1]])"
   ]
  },
  {
   "cell_type": "code",
   "execution_count": 32,
   "id": "4e8f0182",
   "metadata": {},
   "outputs": [],
   "source": [
    "from tensorflow.keras.preprocessing.text import Tokenizer\n",
    "from tensorflow.keras.preprocessing.sequence import pad_sequences\n",
    "from tensorflow.keras.models import Sequential\n",
    "from tensorflow.keras.layers import Embedding,LSTM,Dense,SpatialDropout1D\n",
    "from tensorflow.keras.callbacks import EarlyStopping\n",
    "from sklearn.model_selection import train_test_split\n",
    "from sklearn.preprocessing import LabelEncoder"
   ]
  },
  {
   "cell_type": "markdown",
   "id": "ef940893",
   "metadata": {},
   "source": [
    "**Preprocessing the data to feed the model**: before we create the LSTM model, we must first preprocess the Data,for the input data we would\n",
    "- Tokenize it ie convert each word in the corpus to a numerical value (this would be done with the \"Tokenizer\" function from keras,this is keras version of \"CountVectorizer\" in scikit learn).\n",
    "- Regulate & standardise the length of each tokenized review so they all have the same length(this is done with the \"pad_sequences\" function from keras).<br>\n",
    "\n",
    "For the output data, we would encode them as labels(this is done with the LabelEncoder object from keras)"
   ]
  },
  {
   "cell_type": "code",
   "execution_count": 33,
   "id": "fe7b36fb",
   "metadata": {},
   "outputs": [
    {
     "data": {
      "text/plain": [
       "(4913, 406)"
      ]
     },
     "execution_count": 33,
     "metadata": {},
     "output_type": "execute_result"
    }
   ],
   "source": [
    "tokenizer = Tokenizer() # the \"num_word\" kwarg takes the number of words the Tokenizer object should process \n",
    "# & retain this should by standard be the total amount of words in the data, which would be gotten from the \".size\" method of \n",
    "# the text dataframe. \n",
    "tokenizer.fit_on_texts(data['reviewText'].values) # this will fit the words in the text data to the Tokenizer\n",
    "X = tokenizer.texts_to_sequences(data['reviewText'].values) # this will transform the text data to the numerical sequence values\n",
    "# after the tokenizer has been fitted\n",
    "X = pad_sequences(X,maxlen=406) # the \"maxlen\" kwarg would determine the maximum length that all the tokenised sequence should\n",
    "# be, if a sequence is longer than the specified maxlen it would be truncated ie shortened to the maxlength, if a sequence is \n",
    "# shorter it will be padded (ie zero values would be added to fill it to the max length)\n",
    "X.shape"
   ]
  },
  {
   "cell_type": "code",
   "execution_count": 34,
   "id": "251290c6",
   "metadata": {},
   "outputs": [],
   "source": [
    "lb=LabelEncoder()\n",
    "data['sentiment'] = lb.fit_transform(data['sentiment']) # the label data is fitted & transformed to the labels for the model\n",
    "y = pd.get_dummies(data['sentiment']).values # because we're dealing with a multi-class classification problem, we do one-hot\n",
    "# encoding of the lables by turning them into the dummy variable arrays"
   ]
  },
  {
   "cell_type": "code",
   "execution_count": 35,
   "id": "8d793882",
   "metadata": {},
   "outputs": [],
   "source": [
    "# splitting the data\\\n",
    "X_train, X_test, y_train, y_test = train_test_split(X, y, test_size=0.3, random_state=42)"
   ]
  },
  {
   "cell_type": "markdown",
   "id": "6d49a7f4",
   "metadata": {},
   "source": [
    "**Creating the LSTM model**: The model will be made up of 3 main parts,\"The Embedding Layer, The main LSTM layer(s),The Dense Layer.\n",
    "1. The Embedded Layer is used to vectorise the tokenised data(ie turn each numerical value into the tokenised data to a specified number of dense vector of values),it has 3 kwargs,\"imput_dim\"(takes the size of the vocalbulary ie the amount of values in the tokenized input data,this is either the value given as the value of the \"num_wwords\" kwarg of \"Tokenizer\" or can be gotten by measuring the length of all the tokenized words which is stored in a dictionary, this dictionary is gotten from the \".word_index\" method of the \"Tokenizer\" instance, note that after getting the length you will add 1 to cover an empty index of 0 in the dictionary ),\"output_dim\"(the specified number of vector values the each tokenised value should be turned into),\"input_length\"(The size of the sequence which would be the maximum length specified during padding)\n",
    "2. The LSTM leyer is the main layer for the sequence processing,it takes in the now embedded values for long-short term recurrent processing,the most important kwargs are,\"dropout\"(is used to prevent overfitting within the model by randomly switching off some neurons),\"recurrent_dropout\"(this is the dropout function for randomly switching off recurrent neurons when the previous output is being refed into the layer),\"return_sequences\"(to specify if the layer should return all the output value of every sequence iteration after the final sequence is done,it is used if we're going to add another LSTM layer ontop of the previous one so that it can take information from the last layer )\n",
    "3. The Dense Layer will be used to flatten the final output of the LSTM layer & then use it to generate the final preidction.\n",
    "<br>\n",
    "\n",
    "A minor layer used to be integrated into the model is the SpatialDroupout1D which is a droput layer that would placed above the Embedding layer to randomly switch off the units on the Embediing Layer, the difference between SpatialDroupout1D & conventional dropout layers, is that SpatialDroupout1D switch off all units on random 1-dimensional space instead of single units.."
   ]
  },
  {
   "cell_type": "code",
   "execution_count": 36,
   "id": "100e3278",
   "metadata": {},
   "outputs": [],
   "source": [
    "# creating a callback instance for the model with \"EarlyStopping\"\n",
    "early_stop = EarlyStopping(patience=10) "
   ]
  },
  {
   "cell_type": "code",
   "execution_count": 37,
   "id": "0d3bccff",
   "metadata": {},
   "outputs": [
    {
     "name": "stdout",
     "output_type": "stream",
     "text": [
      "Model: \"sequential\"\n",
      "_________________________________________________________________\n",
      " Layer (type)                Output Shape              Param #   \n",
      "=================================================================\n",
      " embedding (Embedding)       (None, 406, 20)           220900    \n",
      "                                                                 \n",
      " spatial_dropout1d (SpatialD  (None, 406, 20)          0         \n",
      " ropout1D)                                                       \n",
      "                                                                 \n",
      " lstm (LSTM)                 (None, 406, 100)          48400     \n",
      "                                                                 \n",
      " lstm_1 (LSTM)               (None, 100)               80400     \n",
      "                                                                 \n",
      " dense (Dense)               (None, 5)                 505       \n",
      "                                                                 \n",
      "=================================================================\n",
      "Total params: 350,205\n",
      "Trainable params: 350,205\n",
      "Non-trainable params: 0\n",
      "_________________________________________________________________\n",
      "None\n"
     ]
    }
   ],
   "source": [
    "model = Sequential()\n",
    "model.add(Embedding(input_dim=len(tokenizer.word_index)+1,output_dim=20,input_length=406))\n",
    "model.add(SpatialDropout1D(0.4))\n",
    "model.add(LSTM(100,dropout=0.5,recurrent_dropout=0.5,return_sequences=True))\n",
    "model.add(LSTM(100,dropout=0.2,recurrent_dropout=0.2))\n",
    "model.add(Dense(5,activation='softmax'))\n",
    "model.compile(optimizer=\"adam\",loss=\"categorical_crossentropy\")\n",
    "\n",
    "print(model.summary())"
   ]
  },
  {
   "cell_type": "code",
   "execution_count": 38,
   "id": "55a0f1fb",
   "metadata": {},
   "outputs": [
    {
     "name": "stdout",
     "output_type": "stream",
     "text": [
      "Epoch 1/20\n",
      "27/27 [==============================] - 256s 9s/step - loss: 0.9749 - val_loss: 0.7662\n",
      "Epoch 2/20\n",
      "27/27 [==============================] - 266s 10s/step - loss: 0.7224 - val_loss: 0.7350\n",
      "Epoch 3/20\n",
      "27/27 [==============================] - 295s 11s/step - loss: 0.6657 - val_loss: 0.6998\n",
      "Epoch 4/20\n",
      "27/27 [==============================] - 314s 12s/step - loss: 0.6034 - val_loss: 0.6482\n",
      "Epoch 5/20\n",
      "27/27 [==============================] - 318s 12s/step - loss: 0.5408 - val_loss: 0.6422\n",
      "Epoch 6/20\n",
      "27/27 [==============================] - 294s 11s/step - loss: 0.4999 - val_loss: 0.6637\n",
      "Epoch 7/20\n",
      "27/27 [==============================] - 295s 11s/step - loss: 0.4737 - val_loss: 0.6667\n",
      "Epoch 8/20\n",
      "27/27 [==============================] - 287s 11s/step - loss: 0.4507 - val_loss: 0.6682\n",
      "Epoch 9/20\n",
      "27/27 [==============================] - 288s 11s/step - loss: 0.4269 - val_loss: 0.6918\n",
      "Epoch 10/20\n",
      "27/27 [==============================] - 287s 11s/step - loss: 0.4075 - val_loss: 0.7097\n",
      "Epoch 11/20\n",
      "27/27 [==============================] - 292s 11s/step - loss: 0.3897 - val_loss: 0.8094\n",
      "Epoch 12/20\n",
      "27/27 [==============================] - 289s 11s/step - loss: 0.3754 - val_loss: 0.7437\n",
      "Epoch 13/20\n",
      "27/27 [==============================] - 289s 11s/step - loss: 0.3667 - val_loss: 0.7840\n",
      "Epoch 14/20\n",
      "27/27 [==============================] - 294s 11s/step - loss: 0.3528 - val_loss: 0.7867\n",
      "Epoch 15/20\n",
      "27/27 [==============================] - 291s 11s/step - loss: 0.3405 - val_loss: 0.8132\n",
      "Epoch 16/20\n",
      "27/27 [==============================] - 293s 11s/step - loss: 0.3202 - val_loss: 0.8647\n",
      "Epoch 17/20\n",
      "27/27 [==============================] - 291s 11s/step - loss: 0.2981 - val_loss: 0.9056\n",
      "Epoch 18/20\n",
      "27/27 [==============================] - 295s 11s/step - loss: 0.2916 - val_loss: 0.9076\n",
      "Epoch 19/20\n",
      "27/27 [==============================] - 296s 11s/step - loss: 0.2739 - val_loss: 0.9673\n",
      "Epoch 20/20\n",
      "27/27 [==============================] - 298s 11s/step - loss: 0.2832 - val_loss: 0.8928\n"
     ]
    },
    {
     "data": {
      "text/plain": [
       "<keras.callbacks.History at 0x1a9e650cdc0>"
      ]
     },
     "execution_count": 38,
     "metadata": {},
     "output_type": "execute_result"
    }
   ],
   "source": [
    "# training the model\n",
    "model.fit(X_train,y_train,epochs=20,batch_size=128,validation_data=(X_test,y_test))"
   ]
  },
  {
   "cell_type": "code",
   "execution_count": 39,
   "id": "0d5348b8",
   "metadata": {},
   "outputs": [
    {
     "data": {
      "text/plain": [
       "<AxesSubplot:>"
      ]
     },
     "execution_count": 39,
     "metadata": {},
     "output_type": "execute_result"
    },
    {
     "data": {
      "image/png": "[encoded data removed]",
      "text/plain": [
       "<Figure size 432x288 with 1 Axes>"
      ]
     },
     "metadata": {
      "needs_background": "light"
     },
     "output_type": "display_data"
    }
   ],
   "source": [
    "loss = pd.DataFrame(model.history.history)\n",
    "loss.plot()"
   ]
  },
  {
   "cell_type": "code",
   "execution_count": 40,
   "id": "2e9d01ec",
   "metadata": {},
   "outputs": [
    {
     "data": {
      "text/plain": [
       "array([[0, 0, 0, 1, 0],\n",
       "       [0, 0, 0, 1, 0],\n",
       "       [0, 0, 0, 1, 0],\n",
       "       ...,\n",
       "       [0, 0, 1, 0, 0],\n",
       "       [0, 0, 0, 1, 0],\n",
       "       [0, 0, 0, 1, 0]])"
      ]
     },
     "execution_count": 40,
     "metadata": {},
     "output_type": "execute_result"
    }
   ],
   "source": [
    "pred =  np.round(model.predict(X_test)).astype(int)\n",
    "pred"
   ]
  },
  {
   "cell_type": "code",
   "execution_count": 41,
   "id": "9ed27f53",
   "metadata": {},
   "outputs": [],
   "source": [
    "# evaluating the model performance\n",
    "from sklearn.metrics import classification_report,confusion_matrix, explained_variance_score"
   ]
  },
  {
   "cell_type": "code",
   "execution_count": 42,
   "id": "f10c1d55",
   "metadata": {},
   "outputs": [
    {
     "name": "stdout",
     "output_type": "stream",
     "text": [
      "              precision    recall  f1-score   support\n",
      "\n",
      "           0       0.64      0.22      0.33        82\n",
      "           1       0.00      0.00      0.00        22\n",
      "           2       0.18      0.20      0.19       161\n",
      "           3       0.85      0.89      0.87      1165\n",
      "           4       0.00      0.00      0.00        44\n",
      "\n",
      "   micro avg       0.76      0.73      0.75      1474\n",
      "   macro avg       0.33      0.26      0.28      1474\n",
      "weighted avg       0.73      0.73      0.73      1474\n",
      " samples avg       0.73      0.73      0.73      1474\n",
      "\n",
      "[[  40    0   20   22    0]\n",
      " [  10    0    5    7    0]\n",
      " [   8    0   32  121    0]\n",
      " [  18    0  115 1032    0]\n",
      " [   5    0   10   29    0]]\n"
     ]
    },
    {
     "name": "stderr",
     "output_type": "stream",
     "text": [
      "C:\\Users\\LENOVO\\anaconda3\\lib\\site-packages\\sklearn\\metrics\\_classification.py:1248: UndefinedMetricWarning: Precision and F-score are ill-defined and being set to 0.0 in labels with no predicted samples. Use `zero_division` parameter to control this behavior.\n",
      "  _warn_prf(average, modifier, msg_start, len(result))\n",
      "C:\\Users\\LENOVO\\anaconda3\\lib\\site-packages\\sklearn\\metrics\\_classification.py:1248: UndefinedMetricWarning: Precision and F-score are ill-defined and being set to 0.0 in samples with no predicted labels. Use `zero_division` parameter to control this behavior.\n",
      "  _warn_prf(average, modifier, msg_start, len(result))\n"
     ]
    }
   ],
   "source": [
    "print(classification_report(y_test,pred))\n",
    "print(confusion_matrix( np.argmax(y_test,axis=1), np.argmax(pred,axis=1)))"
   ]
  },
  {
   "cell_type": "code",
   "execution_count": null,
   "id": "fe9443ee",
   "metadata": {},
   "outputs": [],
   "source": []
  },
  {
   "cell_type": "code",
   "execution_count": null,
   "id": "f73d0c5e",
   "metadata": {},
   "outputs": [],
   "source": []
  }
 ],
 "metadata": {
  "kernelspec": {
   "display_name": "Python 3 (ipykernel)",
   "language": "python",
   "name": "python3"
  },
  "language_info": {
   "codemirror_mode": {
    "name": "ipython",
    "version": 3
   },
   "file_extension": ".py",
   "mimetype": "text/x-python",
   "name": "python",
   "nbconvert_exporter": "python",
   "pygments_lexer": "ipython3",
   "version": "3.9.7"
  }
 },
 "nbformat": 4,
 "nbformat_minor": 5
}
